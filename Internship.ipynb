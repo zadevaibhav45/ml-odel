{
  "nbformat": 4,
  "nbformat_minor": 0,
  "metadata": {
    "colab": {
      "name": "Internship.ipynb",
      "provenance": [],
      "collapsed_sections": [],
      "authorship_tag": "ABX9TyNCSU7wqaraIdNv3s9lDkjl",
      "include_colab_link": true
    },
    "kernelspec": {
      "name": "python3",
      "display_name": "Python 3"
    },
    "widgets": {
      "application/vnd.jupyter.widget-state+json": {
        "4c474256bcd841beaae0b91c9a89f12c": {
          "model_module": "@jupyter-widgets/controls",
          "model_name": "HBoxModel",
          "state": {
            "_view_name": "HBoxView",
            "_dom_classes": [],
            "_model_name": "HBoxModel",
            "_view_module": "@jupyter-widgets/controls",
            "_model_module_version": "1.5.0",
            "_view_count": null,
            "_view_module_version": "1.5.0",
            "box_style": "",
            "layout": "IPY_MODEL_4856eb414fb7465a8c17d69bcd279a45",
            "_model_module": "@jupyter-widgets/controls",
            "children": [
              "IPY_MODEL_edd83486861d4098a764f0b874ea4b40",
              "IPY_MODEL_a7ea73134a8d426b8459cb6f5cc02316"
            ]
          }
        },
        "4856eb414fb7465a8c17d69bcd279a45": {
          "model_module": "@jupyter-widgets/base",
          "model_name": "LayoutModel",
          "state": {
            "_view_name": "LayoutView",
            "grid_template_rows": null,
            "right": null,
            "justify_content": null,
            "_view_module": "@jupyter-widgets/base",
            "overflow": null,
            "_model_module_version": "1.2.0",
            "_view_count": null,
            "flex_flow": null,
            "width": null,
            "min_width": null,
            "border": null,
            "align_items": null,
            "bottom": null,
            "_model_module": "@jupyter-widgets/base",
            "top": null,
            "grid_column": null,
            "overflow_y": null,
            "overflow_x": null,
            "grid_auto_flow": null,
            "grid_area": null,
            "grid_template_columns": null,
            "flex": null,
            "_model_name": "LayoutModel",
            "justify_items": null,
            "grid_row": null,
            "max_height": null,
            "align_content": null,
            "visibility": null,
            "align_self": null,
            "height": null,
            "min_height": null,
            "padding": null,
            "grid_auto_rows": null,
            "grid_gap": null,
            "max_width": null,
            "order": null,
            "_view_module_version": "1.2.0",
            "grid_template_areas": null,
            "object_position": null,
            "object_fit": null,
            "grid_auto_columns": null,
            "margin": null,
            "display": null,
            "left": null
          }
        },
        "edd83486861d4098a764f0b874ea4b40": {
          "model_module": "@jupyter-widgets/controls",
          "model_name": "FloatProgressModel",
          "state": {
            "_view_name": "ProgressView",
            "style": "IPY_MODEL_cf47d8f584424dd38a2e90a9cb030c73",
            "_dom_classes": [],
            "description": "Optimization Progress: 100%",
            "_model_name": "FloatProgressModel",
            "bar_style": "",
            "max": 120,
            "_view_module": "@jupyter-widgets/controls",
            "_model_module_version": "1.5.0",
            "value": 120,
            "_view_count": null,
            "_view_module_version": "1.5.0",
            "orientation": "horizontal",
            "min": 0,
            "description_tooltip": null,
            "_model_module": "@jupyter-widgets/controls",
            "layout": "IPY_MODEL_a67c9427bcac4409b73e0fbc16e190cc"
          }
        },
        "a7ea73134a8d426b8459cb6f5cc02316": {
          "model_module": "@jupyter-widgets/controls",
          "model_name": "HTMLModel",
          "state": {
            "_view_name": "HTMLView",
            "style": "IPY_MODEL_31adfa3b74104fe48b1ade714d80ec4b",
            "_dom_classes": [],
            "description": "",
            "_model_name": "HTMLModel",
            "placeholder": "​",
            "_view_module": "@jupyter-widgets/controls",
            "_model_module_version": "1.5.0",
            "value": " 120/120 [00:05&lt;00:00, 18.61pipeline/s]",
            "_view_count": null,
            "_view_module_version": "1.5.0",
            "description_tooltip": null,
            "_model_module": "@jupyter-widgets/controls",
            "layout": "IPY_MODEL_251641f243084bfe9652d7a4b637d99f"
          }
        },
        "cf47d8f584424dd38a2e90a9cb030c73": {
          "model_module": "@jupyter-widgets/controls",
          "model_name": "ProgressStyleModel",
          "state": {
            "_view_name": "StyleView",
            "_model_name": "ProgressStyleModel",
            "description_width": "initial",
            "_view_module": "@jupyter-widgets/base",
            "_model_module_version": "1.5.0",
            "_view_count": null,
            "_view_module_version": "1.2.0",
            "bar_color": null,
            "_model_module": "@jupyter-widgets/controls"
          }
        },
        "a67c9427bcac4409b73e0fbc16e190cc": {
          "model_module": "@jupyter-widgets/base",
          "model_name": "LayoutModel",
          "state": {
            "_view_name": "LayoutView",
            "grid_template_rows": null,
            "right": null,
            "justify_content": null,
            "_view_module": "@jupyter-widgets/base",
            "overflow": null,
            "_model_module_version": "1.2.0",
            "_view_count": null,
            "flex_flow": null,
            "width": null,
            "min_width": null,
            "border": null,
            "align_items": null,
            "bottom": null,
            "_model_module": "@jupyter-widgets/base",
            "top": null,
            "grid_column": null,
            "overflow_y": null,
            "overflow_x": null,
            "grid_auto_flow": null,
            "grid_area": null,
            "grid_template_columns": null,
            "flex": null,
            "_model_name": "LayoutModel",
            "justify_items": null,
            "grid_row": null,
            "max_height": null,
            "align_content": null,
            "visibility": null,
            "align_self": null,
            "height": null,
            "min_height": null,
            "padding": null,
            "grid_auto_rows": null,
            "grid_gap": null,
            "max_width": null,
            "order": null,
            "_view_module_version": "1.2.0",
            "grid_template_areas": null,
            "object_position": null,
            "object_fit": null,
            "grid_auto_columns": null,
            "margin": null,
            "display": null,
            "left": null
          }
        },
        "31adfa3b74104fe48b1ade714d80ec4b": {
          "model_module": "@jupyter-widgets/controls",
          "model_name": "DescriptionStyleModel",
          "state": {
            "_view_name": "StyleView",
            "_model_name": "DescriptionStyleModel",
            "description_width": "",
            "_view_module": "@jupyter-widgets/base",
            "_model_module_version": "1.5.0",
            "_view_count": null,
            "_view_module_version": "1.2.0",
            "_model_module": "@jupyter-widgets/controls"
          }
        },
        "251641f243084bfe9652d7a4b637d99f": {
          "model_module": "@jupyter-widgets/base",
          "model_name": "LayoutModel",
          "state": {
            "_view_name": "LayoutView",
            "grid_template_rows": null,
            "right": null,
            "justify_content": null,
            "_view_module": "@jupyter-widgets/base",
            "overflow": null,
            "_model_module_version": "1.2.0",
            "_view_count": null,
            "flex_flow": null,
            "width": null,
            "min_width": null,
            "border": null,
            "align_items": null,
            "bottom": null,
            "_model_module": "@jupyter-widgets/base",
            "top": null,
            "grid_column": null,
            "overflow_y": null,
            "overflow_x": null,
            "grid_auto_flow": null,
            "grid_area": null,
            "grid_template_columns": null,
            "flex": null,
            "_model_name": "LayoutModel",
            "justify_items": null,
            "grid_row": null,
            "max_height": null,
            "align_content": null,
            "visibility": null,
            "align_self": null,
            "height": null,
            "min_height": null,
            "padding": null,
            "grid_auto_rows": null,
            "grid_gap": null,
            "max_width": null,
            "order": null,
            "_view_module_version": "1.2.0",
            "grid_template_areas": null,
            "object_position": null,
            "object_fit": null,
            "grid_auto_columns": null,
            "margin": null,
            "display": null,
            "left": null
          }
        }
      }
    }
  },
  "cells": [
    {
      "cell_type": "markdown",
      "metadata": {
        "id": "view-in-github",
        "colab_type": "text"
      },
      "source": [
        "<a href=\"https://colab.research.google.com/github/zadevaibhav45/ml-odel/blob/master/Internship.ipynb\" target=\"_parent\"><img src=\"https://colab.research.google.com/assets/colab-badge.svg\" alt=\"Open In Colab\"/></a>"
      ]
    },
    {
      "cell_type": "markdown",
      "metadata": {
        "id": "HpVm08auQI08"
      },
      "source": [
        "# **1. Inspecting transfusion.data file**"
      ]
    },
    {
      "cell_type": "code",
      "metadata": {
        "id": "dCpq2F44EHWV",
        "outputId": "19a8f2c0-a8d4-47f7-df2b-a0d71d1c2e50",
        "colab": {
          "base_uri": "https://localhost:8080/"
        }
      },
      "source": [
        "!head -n5 transfusion.data"
      ],
      "execution_count": 57,
      "outputs": [
        {
          "output_type": "stream",
          "text": [
            "Recency (months),Frequency (times),Monetary (c.c. blood),Time (months),\"whether he/she donated blood in March 2007\"\r\n",
            "2 ,50,12500,98 ,1\r\n",
            "0 ,13,3250,28 ,1\r\n",
            "1 ,16,4000,35 ,1\r\n",
            "2 ,20,5000,45 ,1\r\n"
          ],
          "name": "stdout"
        }
      ]
    },
    {
      "cell_type": "markdown",
      "metadata": {
        "id": "qHrNZq0mQOwU"
      },
      "source": [
        "# **2. Loading the blood donations data**"
      ]
    },
    {
      "cell_type": "code",
      "metadata": {
        "id": "3WuYUWwSEUCp",
        "outputId": "c52585c2-faf1-430a-fd1a-8790d947c6ab",
        "colab": {
          "base_uri": "https://localhost:8080/",
          "height": 436
        }
      },
      "source": [
        "import pandas as pd\n",
        "import numpy as np\n",
        "import seaborn as sns\n",
        "import matplotlib.pyplot as plt\n",
        "transfusion = pd.read_csv('transfusion.data')\n",
        "transfusion"
      ],
      "execution_count": 58,
      "outputs": [
        {
          "output_type": "execute_result",
          "data": {
            "text/html": [
              "<div>\n",
              "<style scoped>\n",
              "    .dataframe tbody tr th:only-of-type {\n",
              "        vertical-align: middle;\n",
              "    }\n",
              "\n",
              "    .dataframe tbody tr th {\n",
              "        vertical-align: top;\n",
              "    }\n",
              "\n",
              "    .dataframe thead th {\n",
              "        text-align: right;\n",
              "    }\n",
              "</style>\n",
              "<table border=\"1\" class=\"dataframe\">\n",
              "  <thead>\n",
              "    <tr style=\"text-align: right;\">\n",
              "      <th></th>\n",
              "      <th>Recency (months)</th>\n",
              "      <th>Frequency (times)</th>\n",
              "      <th>Monetary (c.c. blood)</th>\n",
              "      <th>Time (months)</th>\n",
              "      <th>whether he/she donated blood in March 2007</th>\n",
              "    </tr>\n",
              "  </thead>\n",
              "  <tbody>\n",
              "    <tr>\n",
              "      <th>0</th>\n",
              "      <td>2</td>\n",
              "      <td>50</td>\n",
              "      <td>12500</td>\n",
              "      <td>98</td>\n",
              "      <td>1</td>\n",
              "    </tr>\n",
              "    <tr>\n",
              "      <th>1</th>\n",
              "      <td>0</td>\n",
              "      <td>13</td>\n",
              "      <td>3250</td>\n",
              "      <td>28</td>\n",
              "      <td>1</td>\n",
              "    </tr>\n",
              "    <tr>\n",
              "      <th>2</th>\n",
              "      <td>1</td>\n",
              "      <td>16</td>\n",
              "      <td>4000</td>\n",
              "      <td>35</td>\n",
              "      <td>1</td>\n",
              "    </tr>\n",
              "    <tr>\n",
              "      <th>3</th>\n",
              "      <td>2</td>\n",
              "      <td>20</td>\n",
              "      <td>5000</td>\n",
              "      <td>45</td>\n",
              "      <td>1</td>\n",
              "    </tr>\n",
              "    <tr>\n",
              "      <th>4</th>\n",
              "      <td>1</td>\n",
              "      <td>24</td>\n",
              "      <td>6000</td>\n",
              "      <td>77</td>\n",
              "      <td>0</td>\n",
              "    </tr>\n",
              "    <tr>\n",
              "      <th>...</th>\n",
              "      <td>...</td>\n",
              "      <td>...</td>\n",
              "      <td>...</td>\n",
              "      <td>...</td>\n",
              "      <td>...</td>\n",
              "    </tr>\n",
              "    <tr>\n",
              "      <th>743</th>\n",
              "      <td>23</td>\n",
              "      <td>2</td>\n",
              "      <td>500</td>\n",
              "      <td>38</td>\n",
              "      <td>0</td>\n",
              "    </tr>\n",
              "    <tr>\n",
              "      <th>744</th>\n",
              "      <td>21</td>\n",
              "      <td>2</td>\n",
              "      <td>500</td>\n",
              "      <td>52</td>\n",
              "      <td>0</td>\n",
              "    </tr>\n",
              "    <tr>\n",
              "      <th>745</th>\n",
              "      <td>23</td>\n",
              "      <td>3</td>\n",
              "      <td>750</td>\n",
              "      <td>62</td>\n",
              "      <td>0</td>\n",
              "    </tr>\n",
              "    <tr>\n",
              "      <th>746</th>\n",
              "      <td>39</td>\n",
              "      <td>1</td>\n",
              "      <td>250</td>\n",
              "      <td>39</td>\n",
              "      <td>0</td>\n",
              "    </tr>\n",
              "    <tr>\n",
              "      <th>747</th>\n",
              "      <td>72</td>\n",
              "      <td>1</td>\n",
              "      <td>250</td>\n",
              "      <td>72</td>\n",
              "      <td>0</td>\n",
              "    </tr>\n",
              "  </tbody>\n",
              "</table>\n",
              "<p>748 rows × 5 columns</p>\n",
              "</div>"
            ],
            "text/plain": [
              "     Recency (months)  ...  whether he/she donated blood in March 2007\n",
              "0                   2  ...                                           1\n",
              "1                   0  ...                                           1\n",
              "2                   1  ...                                           1\n",
              "3                   2  ...                                           1\n",
              "4                   1  ...                                           0\n",
              "..                ...  ...                                         ...\n",
              "743                23  ...                                           0\n",
              "744                21  ...                                           0\n",
              "745                23  ...                                           0\n",
              "746                39  ...                                           0\n",
              "747                72  ...                                           0\n",
              "\n",
              "[748 rows x 5 columns]"
            ]
          },
          "metadata": {
            "tags": []
          },
          "execution_count": 58
        }
      ]
    },
    {
      "cell_type": "code",
      "metadata": {
        "id": "KbGPNIDXEeRC",
        "outputId": "b7b67b93-dbcd-4eda-b72f-06b6ea9f2592",
        "colab": {
          "base_uri": "https://localhost:8080/",
          "height": 204
        }
      },
      "source": [
        "transfusion.head()"
      ],
      "execution_count": 59,
      "outputs": [
        {
          "output_type": "execute_result",
          "data": {
            "text/html": [
              "<div>\n",
              "<style scoped>\n",
              "    .dataframe tbody tr th:only-of-type {\n",
              "        vertical-align: middle;\n",
              "    }\n",
              "\n",
              "    .dataframe tbody tr th {\n",
              "        vertical-align: top;\n",
              "    }\n",
              "\n",
              "    .dataframe thead th {\n",
              "        text-align: right;\n",
              "    }\n",
              "</style>\n",
              "<table border=\"1\" class=\"dataframe\">\n",
              "  <thead>\n",
              "    <tr style=\"text-align: right;\">\n",
              "      <th></th>\n",
              "      <th>Recency (months)</th>\n",
              "      <th>Frequency (times)</th>\n",
              "      <th>Monetary (c.c. blood)</th>\n",
              "      <th>Time (months)</th>\n",
              "      <th>whether he/she donated blood in March 2007</th>\n",
              "    </tr>\n",
              "  </thead>\n",
              "  <tbody>\n",
              "    <tr>\n",
              "      <th>0</th>\n",
              "      <td>2</td>\n",
              "      <td>50</td>\n",
              "      <td>12500</td>\n",
              "      <td>98</td>\n",
              "      <td>1</td>\n",
              "    </tr>\n",
              "    <tr>\n",
              "      <th>1</th>\n",
              "      <td>0</td>\n",
              "      <td>13</td>\n",
              "      <td>3250</td>\n",
              "      <td>28</td>\n",
              "      <td>1</td>\n",
              "    </tr>\n",
              "    <tr>\n",
              "      <th>2</th>\n",
              "      <td>1</td>\n",
              "      <td>16</td>\n",
              "      <td>4000</td>\n",
              "      <td>35</td>\n",
              "      <td>1</td>\n",
              "    </tr>\n",
              "    <tr>\n",
              "      <th>3</th>\n",
              "      <td>2</td>\n",
              "      <td>20</td>\n",
              "      <td>5000</td>\n",
              "      <td>45</td>\n",
              "      <td>1</td>\n",
              "    </tr>\n",
              "    <tr>\n",
              "      <th>4</th>\n",
              "      <td>1</td>\n",
              "      <td>24</td>\n",
              "      <td>6000</td>\n",
              "      <td>77</td>\n",
              "      <td>0</td>\n",
              "    </tr>\n",
              "  </tbody>\n",
              "</table>\n",
              "</div>"
            ],
            "text/plain": [
              "   Recency (months)  ...  whether he/she donated blood in March 2007\n",
              "0                 2  ...                                           1\n",
              "1                 0  ...                                           1\n",
              "2                 1  ...                                           1\n",
              "3                 2  ...                                           1\n",
              "4                 1  ...                                           0\n",
              "\n",
              "[5 rows x 5 columns]"
            ]
          },
          "metadata": {
            "tags": []
          },
          "execution_count": 59
        }
      ]
    },
    {
      "cell_type": "markdown",
      "metadata": {
        "id": "di_PahydQ9X0"
      },
      "source": [
        "# **3. Inspecting transfusion DataFrame **"
      ]
    },
    {
      "cell_type": "code",
      "metadata": {
        "id": "JmwAyfpNIY5T",
        "outputId": "650e52f1-881b-4828-8fac-c6d9bb99f843",
        "colab": {
          "base_uri": "https://localhost:8080/"
        }
      },
      "source": [
        "transfusion.info()"
      ],
      "execution_count": 61,
      "outputs": [
        {
          "output_type": "stream",
          "text": [
            "<class 'pandas.core.frame.DataFrame'>\n",
            "RangeIndex: 748 entries, 0 to 747\n",
            "Data columns (total 5 columns):\n",
            " #   Column                                      Non-Null Count  Dtype\n",
            "---  ------                                      --------------  -----\n",
            " 0   Recency (months)                            748 non-null    int64\n",
            " 1   Frequency (times)                           748 non-null    int64\n",
            " 2   Monetary (c.c. blood)                       748 non-null    int64\n",
            " 3   Time (months)                               748 non-null    int64\n",
            " 4   whether he/she donated blood in March 2007  748 non-null    int64\n",
            "dtypes: int64(5)\n",
            "memory usage: 29.3 KB\n"
          ],
          "name": "stdout"
        }
      ]
    },
    {
      "cell_type": "code",
      "metadata": {
        "id": "GlsAuaXWJBUY",
        "outputId": "7b27e29b-46b9-46f8-fa6f-9a8e32bcc900",
        "colab": {
          "base_uri": "https://localhost:8080/"
        }
      },
      "source": [
        "transfusion.shape"
      ],
      "execution_count": 62,
      "outputs": [
        {
          "output_type": "execute_result",
          "data": {
            "text/plain": [
              "(748, 5)"
            ]
          },
          "metadata": {
            "tags": []
          },
          "execution_count": 62
        }
      ]
    },
    {
      "cell_type": "code",
      "metadata": {
        "id": "XMiewlKJIeje",
        "outputId": "45d10b07-c886-45a0-943d-faeb9c6b293c",
        "colab": {
          "base_uri": "https://localhost:8080/"
        }
      },
      "source": [
        "#For Checking NULL Values\n",
        "transfusion.isnull().sum()"
      ],
      "execution_count": 63,
      "outputs": [
        {
          "output_type": "execute_result",
          "data": {
            "text/plain": [
              "Recency (months)                              0\n",
              "Frequency (times)                             0\n",
              "Monetary (c.c. blood)                         0\n",
              "Time (months)                                 0\n",
              "whether he/she donated blood in March 2007    0\n",
              "dtype: int64"
            ]
          },
          "metadata": {
            "tags": []
          },
          "execution_count": 63
        }
      ]
    },
    {
      "cell_type": "code",
      "metadata": {
        "id": "p_qNuexZJGRw",
        "outputId": "8afed4ee-1f95-4029-83a8-3fee3c78fd7a",
        "colab": {
          "base_uri": "https://localhost:8080/"
        }
      },
      "source": [
        "transfusion.columns"
      ],
      "execution_count": 64,
      "outputs": [
        {
          "output_type": "execute_result",
          "data": {
            "text/plain": [
              "Index(['Recency (months)', 'Frequency (times)', 'Monetary (c.c. blood)',\n",
              "       'Time (months)', 'whether he/she donated blood in March 2007'],\n",
              "      dtype='object')"
            ]
          },
          "metadata": {
            "tags": []
          },
          "execution_count": 64
        }
      ]
    },
    {
      "cell_type": "code",
      "metadata": {
        "id": "9EemS3rFIjOW",
        "outputId": "afb39d57-369e-4524-a8bf-b1d1a65629f0",
        "colab": {
          "base_uri": "https://localhost:8080/",
          "height": 314
        }
      },
      "source": [
        "transfusion.describe()"
      ],
      "execution_count": 65,
      "outputs": [
        {
          "output_type": "execute_result",
          "data": {
            "text/html": [
              "<div>\n",
              "<style scoped>\n",
              "    .dataframe tbody tr th:only-of-type {\n",
              "        vertical-align: middle;\n",
              "    }\n",
              "\n",
              "    .dataframe tbody tr th {\n",
              "        vertical-align: top;\n",
              "    }\n",
              "\n",
              "    .dataframe thead th {\n",
              "        text-align: right;\n",
              "    }\n",
              "</style>\n",
              "<table border=\"1\" class=\"dataframe\">\n",
              "  <thead>\n",
              "    <tr style=\"text-align: right;\">\n",
              "      <th></th>\n",
              "      <th>Recency (months)</th>\n",
              "      <th>Frequency (times)</th>\n",
              "      <th>Monetary (c.c. blood)</th>\n",
              "      <th>Time (months)</th>\n",
              "      <th>whether he/she donated blood in March 2007</th>\n",
              "    </tr>\n",
              "  </thead>\n",
              "  <tbody>\n",
              "    <tr>\n",
              "      <th>count</th>\n",
              "      <td>748.000000</td>\n",
              "      <td>748.000000</td>\n",
              "      <td>748.000000</td>\n",
              "      <td>748.000000</td>\n",
              "      <td>748.000000</td>\n",
              "    </tr>\n",
              "    <tr>\n",
              "      <th>mean</th>\n",
              "      <td>9.506684</td>\n",
              "      <td>5.514706</td>\n",
              "      <td>1378.676471</td>\n",
              "      <td>34.282086</td>\n",
              "      <td>0.237968</td>\n",
              "    </tr>\n",
              "    <tr>\n",
              "      <th>std</th>\n",
              "      <td>8.095396</td>\n",
              "      <td>5.839307</td>\n",
              "      <td>1459.826781</td>\n",
              "      <td>24.376714</td>\n",
              "      <td>0.426124</td>\n",
              "    </tr>\n",
              "    <tr>\n",
              "      <th>min</th>\n",
              "      <td>0.000000</td>\n",
              "      <td>1.000000</td>\n",
              "      <td>250.000000</td>\n",
              "      <td>2.000000</td>\n",
              "      <td>0.000000</td>\n",
              "    </tr>\n",
              "    <tr>\n",
              "      <th>25%</th>\n",
              "      <td>2.750000</td>\n",
              "      <td>2.000000</td>\n",
              "      <td>500.000000</td>\n",
              "      <td>16.000000</td>\n",
              "      <td>0.000000</td>\n",
              "    </tr>\n",
              "    <tr>\n",
              "      <th>50%</th>\n",
              "      <td>7.000000</td>\n",
              "      <td>4.000000</td>\n",
              "      <td>1000.000000</td>\n",
              "      <td>28.000000</td>\n",
              "      <td>0.000000</td>\n",
              "    </tr>\n",
              "    <tr>\n",
              "      <th>75%</th>\n",
              "      <td>14.000000</td>\n",
              "      <td>7.000000</td>\n",
              "      <td>1750.000000</td>\n",
              "      <td>50.000000</td>\n",
              "      <td>0.000000</td>\n",
              "    </tr>\n",
              "    <tr>\n",
              "      <th>max</th>\n",
              "      <td>74.000000</td>\n",
              "      <td>50.000000</td>\n",
              "      <td>12500.000000</td>\n",
              "      <td>98.000000</td>\n",
              "      <td>1.000000</td>\n",
              "    </tr>\n",
              "  </tbody>\n",
              "</table>\n",
              "</div>"
            ],
            "text/plain": [
              "       Recency (months)  ...  whether he/she donated blood in March 2007\n",
              "count        748.000000  ...                                  748.000000\n",
              "mean           9.506684  ...                                    0.237968\n",
              "std            8.095396  ...                                    0.426124\n",
              "min            0.000000  ...                                    0.000000\n",
              "25%            2.750000  ...                                    0.000000\n",
              "50%            7.000000  ...                                    0.000000\n",
              "75%           14.000000  ...                                    0.000000\n",
              "max           74.000000  ...                                    1.000000\n",
              "\n",
              "[8 rows x 5 columns]"
            ]
          },
          "metadata": {
            "tags": []
          },
          "execution_count": 65
        }
      ]
    },
    {
      "cell_type": "markdown",
      "metadata": {
        "id": "_ideDKwhRfVS"
      },
      "source": [
        "# **4. Creating target column**"
      ]
    },
    {
      "cell_type": "code",
      "metadata": {
        "id": "HADReZrMInAq",
        "outputId": "09c438da-9f80-4734-9099-380c0f143051",
        "colab": {
          "base_uri": "https://localhost:8080/",
          "height": 111
        }
      },
      "source": [
        "# Rename target column as 'target'\n",
        "transfusion.rename(columns={'whether he/she donated blood in March 2007': 'target'},inplace=True)\n",
        "transfusion.head(2)"
      ],
      "execution_count": 66,
      "outputs": [
        {
          "output_type": "execute_result",
          "data": {
            "text/html": [
              "<div>\n",
              "<style scoped>\n",
              "    .dataframe tbody tr th:only-of-type {\n",
              "        vertical-align: middle;\n",
              "    }\n",
              "\n",
              "    .dataframe tbody tr th {\n",
              "        vertical-align: top;\n",
              "    }\n",
              "\n",
              "    .dataframe thead th {\n",
              "        text-align: right;\n",
              "    }\n",
              "</style>\n",
              "<table border=\"1\" class=\"dataframe\">\n",
              "  <thead>\n",
              "    <tr style=\"text-align: right;\">\n",
              "      <th></th>\n",
              "      <th>Recency (months)</th>\n",
              "      <th>Frequency (times)</th>\n",
              "      <th>Monetary (c.c. blood)</th>\n",
              "      <th>Time (months)</th>\n",
              "      <th>target</th>\n",
              "    </tr>\n",
              "  </thead>\n",
              "  <tbody>\n",
              "    <tr>\n",
              "      <th>0</th>\n",
              "      <td>2</td>\n",
              "      <td>50</td>\n",
              "      <td>12500</td>\n",
              "      <td>98</td>\n",
              "      <td>1</td>\n",
              "    </tr>\n",
              "    <tr>\n",
              "      <th>1</th>\n",
              "      <td>0</td>\n",
              "      <td>13</td>\n",
              "      <td>3250</td>\n",
              "      <td>28</td>\n",
              "      <td>1</td>\n",
              "    </tr>\n",
              "  </tbody>\n",
              "</table>\n",
              "</div>"
            ],
            "text/plain": [
              "   Recency (months)  Frequency (times)  ...  Time (months)  target\n",
              "0                 2                 50  ...             98       1\n",
              "1                 0                 13  ...             28       1\n",
              "\n",
              "[2 rows x 5 columns]"
            ]
          },
          "metadata": {
            "tags": []
          },
          "execution_count": 66
        }
      ]
    },
    {
      "cell_type": "markdown",
      "metadata": {
        "id": "qdRvPZQJSXSr"
      },
      "source": [
        "# **5. Checking target incidence**"
      ]
    },
    {
      "cell_type": "code",
      "metadata": {
        "id": "W1Xk4tmJJWBP",
        "outputId": "3aaf4600-062b-4bcc-dad2-16f26674e0d6",
        "colab": {
          "base_uri": "https://localhost:8080/"
        }
      },
      "source": [
        "#Print target incidence proportions, rounding output to 3 decimal places\n",
        "transfusion['target'].value_counts(normalize=True).round(3)"
      ],
      "execution_count": 67,
      "outputs": [
        {
          "output_type": "execute_result",
          "data": {
            "text/plain": [
              "0    0.762\n",
              "1    0.238\n",
              "Name: target, dtype: float64"
            ]
          },
          "metadata": {
            "tags": []
          },
          "execution_count": 67
        }
      ]
    },
    {
      "cell_type": "markdown",
      "metadata": {
        "id": "ziQO0MYpSlSj"
      },
      "source": [
        "# **6. Splitting transfusion into train and test datasets**"
      ]
    },
    {
      "cell_type": "code",
      "metadata": {
        "id": "xdiwqcEgJifD",
        "outputId": "17307360-75e3-4833-e8b8-ad00e897eb2d",
        "colab": {
          "base_uri": "https://localhost:8080/",
          "height": 111
        }
      },
      "source": [
        "# Import train_test_split method\n",
        "from sklearn.model_selection import train_test_split\n",
        "\n",
        "# Split transfusion DataFrame into\n",
        "# X_train, X_test, y_train and y_test datasets,\n",
        "# stratifying on the `target` column\n",
        "X_train, X_test, y_train, y_test = train_test_split(\n",
        "    transfusion.drop(columns='target'),\n",
        "    transfusion.target,\n",
        "    test_size=0.25,\n",
        "    random_state=42,\n",
        "    stratify=transfusion.target\n",
        ")\n",
        "\n",
        "# Print out the first 2 rows of X_train\n",
        "X_train.head(2)"
      ],
      "execution_count": 68,
      "outputs": [
        {
          "output_type": "execute_result",
          "data": {
            "text/html": [
              "<div>\n",
              "<style scoped>\n",
              "    .dataframe tbody tr th:only-of-type {\n",
              "        vertical-align: middle;\n",
              "    }\n",
              "\n",
              "    .dataframe tbody tr th {\n",
              "        vertical-align: top;\n",
              "    }\n",
              "\n",
              "    .dataframe thead th {\n",
              "        text-align: right;\n",
              "    }\n",
              "</style>\n",
              "<table border=\"1\" class=\"dataframe\">\n",
              "  <thead>\n",
              "    <tr style=\"text-align: right;\">\n",
              "      <th></th>\n",
              "      <th>Recency (months)</th>\n",
              "      <th>Frequency (times)</th>\n",
              "      <th>Monetary (c.c. blood)</th>\n",
              "      <th>Time (months)</th>\n",
              "    </tr>\n",
              "  </thead>\n",
              "  <tbody>\n",
              "    <tr>\n",
              "      <th>334</th>\n",
              "      <td>16</td>\n",
              "      <td>2</td>\n",
              "      <td>500</td>\n",
              "      <td>16</td>\n",
              "    </tr>\n",
              "    <tr>\n",
              "      <th>99</th>\n",
              "      <td>5</td>\n",
              "      <td>7</td>\n",
              "      <td>1750</td>\n",
              "      <td>26</td>\n",
              "    </tr>\n",
              "  </tbody>\n",
              "</table>\n",
              "</div>"
            ],
            "text/plain": [
              "     Recency (months)  Frequency (times)  Monetary (c.c. blood)  Time (months)\n",
              "334                16                  2                    500             16\n",
              "99                  5                  7                   1750             26"
            ]
          },
          "metadata": {
            "tags": []
          },
          "execution_count": 68
        }
      ]
    },
    {
      "cell_type": "markdown",
      "metadata": {
        "id": "4Kb7peS5S4nu"
      },
      "source": [
        "# **7. Selecting model using TPOT**\n"
      ]
    },
    {
      "cell_type": "code",
      "metadata": {
        "id": "tbKwKt54JwUY",
        "outputId": "4e2cb2ca-2029-4745-f241-1931974dc28a",
        "colab": {
          "base_uri": "https://localhost:8080/"
        }
      },
      "source": [
        "!pip install TPOT"
      ],
      "execution_count": 69,
      "outputs": [
        {
          "output_type": "stream",
          "text": [
            "Requirement already satisfied: TPOT in /usr/local/lib/python3.6/dist-packages (0.11.6.post1)\n",
            "Requirement already satisfied: update-checker>=0.16 in /usr/local/lib/python3.6/dist-packages (from TPOT) (0.18.0)\n",
            "Requirement already satisfied: stopit>=1.1.1 in /usr/local/lib/python3.6/dist-packages (from TPOT) (1.1.2)\n",
            "Requirement already satisfied: numpy>=1.16.3 in /usr/local/lib/python3.6/dist-packages (from TPOT) (1.18.5)\n",
            "Requirement already satisfied: pandas>=0.24.2 in /usr/local/lib/python3.6/dist-packages (from TPOT) (1.1.4)\n",
            "Requirement already satisfied: joblib>=0.13.2 in /usr/local/lib/python3.6/dist-packages (from TPOT) (0.17.0)\n",
            "Requirement already satisfied: deap>=1.2 in /usr/local/lib/python3.6/dist-packages (from TPOT) (1.3.1)\n",
            "Requirement already satisfied: scipy>=1.3.1 in /usr/local/lib/python3.6/dist-packages (from TPOT) (1.4.1)\n",
            "Requirement already satisfied: scikit-learn>=0.22.0 in /usr/local/lib/python3.6/dist-packages (from TPOT) (0.22.2.post1)\n",
            "Requirement already satisfied: tqdm>=4.36.1 in /usr/local/lib/python3.6/dist-packages (from TPOT) (4.41.1)\n",
            "Requirement already satisfied: requests>=2.3.0 in /usr/local/lib/python3.6/dist-packages (from update-checker>=0.16->TPOT) (2.23.0)\n",
            "Requirement already satisfied: python-dateutil>=2.7.3 in /usr/local/lib/python3.6/dist-packages (from pandas>=0.24.2->TPOT) (2.8.1)\n",
            "Requirement already satisfied: pytz>=2017.2 in /usr/local/lib/python3.6/dist-packages (from pandas>=0.24.2->TPOT) (2018.9)\n",
            "Requirement already satisfied: urllib3!=1.25.0,!=1.25.1,<1.26,>=1.21.1 in /usr/local/lib/python3.6/dist-packages (from requests>=2.3.0->update-checker>=0.16->TPOT) (1.24.3)\n",
            "Requirement already satisfied: certifi>=2017.4.17 in /usr/local/lib/python3.6/dist-packages (from requests>=2.3.0->update-checker>=0.16->TPOT) (2020.6.20)\n",
            "Requirement already satisfied: chardet<4,>=3.0.2 in /usr/local/lib/python3.6/dist-packages (from requests>=2.3.0->update-checker>=0.16->TPOT) (3.0.4)\n",
            "Requirement already satisfied: idna<3,>=2.5 in /usr/local/lib/python3.6/dist-packages (from requests>=2.3.0->update-checker>=0.16->TPOT) (2.10)\n",
            "Requirement already satisfied: six>=1.5 in /usr/local/lib/python3.6/dist-packages (from python-dateutil>=2.7.3->pandas>=0.24.2->TPOT) (1.15.0)\n"
          ],
          "name": "stdout"
        }
      ]
    },
    {
      "cell_type": "code",
      "metadata": {
        "id": "TCzzUOhfJ_jf",
        "outputId": "19353ea7-074b-47eb-c85d-6e0441ed2529",
        "colab": {
          "base_uri": "https://localhost:8080/",
          "height": 323,
          "referenced_widgets": [
            "4c474256bcd841beaae0b91c9a89f12c",
            "4856eb414fb7465a8c17d69bcd279a45",
            "edd83486861d4098a764f0b874ea4b40",
            "a7ea73134a8d426b8459cb6f5cc02316",
            "cf47d8f584424dd38a2e90a9cb030c73",
            "a67c9427bcac4409b73e0fbc16e190cc",
            "31adfa3b74104fe48b1ade714d80ec4b",
            "251641f243084bfe9652d7a4b637d99f"
          ]
        }
      },
      "source": [
        "# Import TPOTClassifier and roc_auc_score\n",
        "from tpot import TPOTClassifier\n",
        "from sklearn.metrics import roc_auc_score\n",
        "\n",
        "# Instantiate TPOTClassifier\n",
        "tpot = TPOTClassifier(\n",
        "    generations=5,\n",
        "    population_size=20,\n",
        "    verbosity=2,\n",
        "    scoring='roc_auc',\n",
        "    random_state=42,\n",
        "    disable_update_check=True,\n",
        "    config_dict='TPOT light'\n",
        ")\n",
        "tpot.fit(X_train, y_train)\n",
        "\n",
        "# AUC score for tpot model\n",
        "tpot_auc_score = roc_auc_score(y_test, tpot.predict_proba(X_test)[:, 1])\n",
        "print(f'\\nAUC score: {tpot_auc_score:.4f}')\n",
        "\n",
        "# Print best pipeline steps\n",
        "print('\\nBest pipeline steps:', end='\\n')\n",
        "for idx, (name, transform) in enumerate(tpot.fitted_pipeline_.steps, start=1):\n",
        "    \n",
        "    print(f'{idx}. {transform}')"
      ],
      "execution_count": 70,
      "outputs": [
        {
          "output_type": "display_data",
          "data": {
            "application/vnd.jupyter.widget-view+json": {
              "model_id": "4c474256bcd841beaae0b91c9a89f12c",
              "version_minor": 0,
              "version_major": 2
            },
            "text/plain": [
              "HBox(children=(FloatProgress(value=0.0, description='Optimization Progress', max=120.0, style=ProgressStyle(de…"
            ]
          },
          "metadata": {
            "tags": []
          }
        },
        {
          "output_type": "stream",
          "text": [
            "\r\n",
            "Generation 1 - Current best internal CV score: 0.7422459184429089\n",
            "\n",
            "Generation 2 - Current best internal CV score: 0.7422459184429089\n",
            "\n",
            "Generation 3 - Current best internal CV score: 0.7422459184429089\n",
            "\n",
            "Generation 4 - Current best internal CV score: 0.7422459184429089\n",
            "\n",
            "Generation 5 - Current best internal CV score: 0.7456308339276876\n",
            "\n",
            "Best pipeline: MultinomialNB(Normalizer(input_matrix, norm=l2), alpha=0.001, fit_prior=True)\n",
            "\n",
            "AUC score: 0.7637\n",
            "\n",
            "Best pipeline steps:\n",
            "1. Normalizer(copy=True, norm='l2')\n",
            "2. MultinomialNB(alpha=0.001, class_prior=None, fit_prior=True)\n"
          ],
          "name": "stdout"
        }
      ]
    },
    {
      "cell_type": "markdown",
      "metadata": {
        "id": "J2Gput2OTEo4"
      },
      "source": [
        "# **8. Checking the variance**"
      ]
    },
    {
      "cell_type": "code",
      "metadata": {
        "id": "R5A7d26ZKHWt",
        "outputId": "76ea5e5d-b724-42de-ef49-5aaee9335440",
        "colab": {
          "base_uri": "https://localhost:8080/"
        }
      },
      "source": [
        "# X_train's variance, rounding the output to 3 decimal places\n",
        "X_train.var().round(3)"
      ],
      "execution_count": 71,
      "outputs": [
        {
          "output_type": "execute_result",
          "data": {
            "text/plain": [
              "Recency (months)              66.929\n",
              "Frequency (times)             33.830\n",
              "Monetary (c.c. blood)    2114363.700\n",
              "Time (months)                611.147\n",
              "dtype: float64"
            ]
          },
          "metadata": {
            "tags": []
          },
          "execution_count": 71
        }
      ]
    },
    {
      "cell_type": "markdown",
      "metadata": {
        "id": "YJ5XkMcaTRWn"
      },
      "source": [
        "# **9. Log normalization**"
      ]
    },
    {
      "cell_type": "code",
      "metadata": {
        "id": "u3BsgHBCKTHD",
        "outputId": "e705709a-f271-4eb4-8c1c-db6ce266caed",
        "colab": {
          "base_uri": "https://localhost:8080/"
        }
      },
      "source": [
        "# Copy X_train and X_test into X_train_normed and X_test_normed\n",
        "X_train_normed, X_test_normed = X_train.copy(), X_test.copy()\n",
        "\n",
        "# Specify which column to normalize\n",
        "col_to_normalize = 'Monetary (c.c. blood)'\n",
        "\n",
        "# Log normalization\n",
        "for df_ in [X_train_normed, X_test_normed]:\n",
        "    # Add log normalized column\n",
        "    df_['monetary_log'] = np.log(df_[col_to_normalize])\n",
        "    # Drop the original column\n",
        "    df_.drop(columns=col_to_normalize, inplace=True)\n",
        "\n",
        "# Check the variance for X_train_normed\n",
        "\n",
        "X_train_normed.var().round(3)"
      ],
      "execution_count": 72,
      "outputs": [
        {
          "output_type": "execute_result",
          "data": {
            "text/plain": [
              "Recency (months)      66.929\n",
              "Frequency (times)     33.830\n",
              "Time (months)        611.147\n",
              "monetary_log           0.837\n",
              "dtype: float64"
            ]
          },
          "metadata": {
            "tags": []
          },
          "execution_count": 72
        }
      ]
    },
    {
      "cell_type": "markdown",
      "metadata": {
        "id": "AxFMi0IeT5vu"
      },
      "source": [
        "# **10. Training the linear regression model**"
      ]
    },
    {
      "cell_type": "code",
      "metadata": {
        "id": "ek-EpPuJKb69",
        "outputId": "4de6678c-fc8e-412c-fb47-7f17cb1c5c3d",
        "colab": {
          "base_uri": "https://localhost:8080/",
          "height": 347
        }
      },
      "source": [
        "from sklearn import linear_model\n",
        "from sklearn import metrics\n",
        "from sklearn.metrics import log_loss\n",
        "\n",
        "# Instantiate LogisticRegression\n",
        "logreg = linear_model.LogisticRegression(\n",
        "    solver='liblinear',\n",
        "    random_state=42\n",
        ")\n",
        "\n",
        "# Train the model\n",
        "logreg.fit(X_train_normed, y_train)\n",
        "y_pred = logreg.predict(X_test_normed)\n",
        "\n",
        "# AUC score for tpot model\n",
        "logreg_auc_score = roc_auc_score(y_test, logreg.predict_proba(X_test_normed)[:, 1])\n",
        "y_pred_proba = logreg.predict_proba(X_test_normed)[::,1]\n",
        "fpr, tpr, _ = metrics.roc_curve(y_test,  y_pred_proba)\n",
        "auc = metrics.roc_auc_score(y_test, y_pred_proba)\n",
        "plt.plot(fpr,tpr,label=\"Logistic Regression, auc=\"+str(auc.round(4)))\n",
        "plt.plot([0, 1], [0, 1],'r--', label = 'Baseline Model: Guessing')\n",
        "plt.ylabel('True Positive Rate')\n",
        "plt.xlabel('False Positive Rate')\n",
        "plt.legend(loc=4)\n",
        "plt.show()\n",
        "print(f'\\nAUC score: {logreg_auc_score:.4f}')\n",
        "print(f'\\nLog Loss: {log_loss(y_test, logreg.predict_proba(X_test_normed)[:, 1]):.4f}')\n"
      ],
      "execution_count": 73,
      "outputs": [
        {
          "output_type": "display_data",
          "data": {
            "image/png": "[encoded data removed]",
            "text/plain": [
              "<Figure size 432x288 with 1 Axes>"
            ]
          },
          "metadata": {
            "tags": [],
            "needs_background": "light"
          }
        },
        {
          "output_type": "stream",
          "text": [
            "\n",
            "AUC score: 0.7890\n",
            "\n",
            "Log Loss: 0.4476\n"
          ],
          "name": "stdout"
        }
      ]
    },
    {
      "cell_type": "code",
      "metadata": {
        "id": "L-x8lh_QVMW0",
        "outputId": "e957db37-267e-47e7-caa8-e9c5de177ea8",
        "colab": {
          "base_uri": "https://localhost:8080/",
          "height": 378
        }
      },
      "source": [
        "print(\"Accuracy:\",metrics.accuracy_score(y_test, y_pred))\n",
        "print(\"Precision:\",metrics.precision_score(y_test, y_pred))\n",
        "print(\"Recall:\",metrics.recall_score(y_test, y_pred))\n",
        "\n",
        "cnf_matrix = metrics.confusion_matrix(y_test, y_pred)\n",
        "class_names=[0,1] # name  of classes\n",
        "\n",
        "# HEATMAP\n",
        "ax = sns.heatmap(cnf_matrix, annot = True ,  cmap=\"YlGnBu\",  fmt ='d', cbar = False)\n",
        "plt.tight_layout()\n",
        "plt.title('Confusion matrix', y=1.1)\n",
        "plt.ylabel('Actual label')\n",
        "plt.xlabel('Predicted label')\n",
        "bottom, top = ax.get_ylim()\n",
        "ax.set_ylim(bottom + 0.5, top - 0.5)\n",
        "plt.show()"
      ],
      "execution_count": 74,
      "outputs": [
        {
          "output_type": "stream",
          "text": [
            "Accuracy: 0.7754010695187166\n",
            "Precision: 0.625\n",
            "Recall: 0.11363636363636363\n"
          ],
          "name": "stdout"
        },
        {
          "output_type": "display_data",
          "data": {
            "image/png": "[encoded data removed]",
            "text/plain": [
              "<Figure size 432x288 with 1 Axes>"
            ]
          },
          "metadata": {
            "tags": [],
            "needs_background": "light"
          }
        }
      ]
    },
    {
      "cell_type": "markdown",
      "metadata": {
        "id": "aZyHA8AtUI2h"
      },
      "source": [
        "# **11. Conclusion**"
      ]
    },
    {
      "cell_type": "markdown",
      "metadata": {
        "id": "Ag1E1aRlbz7n"
      },
      "source": [
        "The demand for blood fluctuates throughout the year. As one prominent example, blood donations slow down during busy holiday seasons. An accurate forecast for the future supply of blood allows for an appropriate action to be taken ahead of time and therefore saving more lives."
      ]
    },
    {
      "cell_type": "markdown",
      "metadata": {
        "id": "iV5tocPNasxl"
      },
      "source": [
        "In this notebook, we explored automatic model selection using TPOT and AUC score we got was 0.7637. This is better than simply choosing 0 all the time (the target incidence suggests that such a model would have 76% success rate). We then log normalized our training data and improved the AUC score by approx. 1.00% i.e 0.7890 In the field of machine learning, even small improvements in accuracy can be important, depending on the purpose."
      ]
    },
    {
      "cell_type": "code",
      "metadata": {
        "id": "f4esdff8Kndw",
        "outputId": "c217d3c7-8bca-4040-be1e-9cb450c4f8fe",
        "colab": {
          "base_uri": "https://localhost:8080/"
        }
      },
      "source": [
        " #Importing itemgetter\n",
        "from operator import itemgetter\n",
        "\n",
        "# Sort models based on their AUC score from highest to lowest\n",
        "sorted(\n",
        "    [('tpot', tpot_auc_score), ('logreg', logreg_auc_score)],\n",
        "    key=itemgetter(1),\n",
        "    reverse=True)"
      ],
      "execution_count": 75,
      "outputs": [
        {
          "output_type": "execute_result",
          "data": {
            "text/plain": [
              "[('logreg', 0.7890178003814368), ('tpot', 0.7637476160203432)]"
            ]
          },
          "metadata": {
            "tags": []
          },
          "execution_count": 75
        }
      ]
    },
    {
      "cell_type": "code",
      "metadata": {
        "id": "itirBno7LQRC"
      },
      "source": [
        ""
      ],
      "execution_count": null,
      "outputs": []
    }
  ]
}